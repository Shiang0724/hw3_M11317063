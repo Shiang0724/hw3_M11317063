{
 "cells": [
  {
   "cell_type": "code",
   "execution_count": 3,
   "id": "c90c63a6",
   "metadata": {},
   "outputs": [
    {
     "name": "stdout",
     "output_type": "stream",
     "text": [
      "=== 開始訓練 Fold1 ===\n"
     ]
    },
    {
     "name": "stderr",
     "output_type": "stream",
     "text": [
      "                                                          \r"
     ]
    },
    {
     "name": "stdout",
     "output_type": "stream",
     "text": [
      "[Fold1][1/50] Loss=73.8  IOU=0.021  Err=72.4px  <0.5cm=11.4%  <1cm=38.6%\n"
     ]
    },
    {
     "name": "stderr",
     "output_type": "stream",
     "text": [
      "                                                          \r"
     ]
    },
    {
     "name": "stdout",
     "output_type": "stream",
     "text": [
      "[Fold1][2/50] Loss=68.8  IOU=0.110  Err=10.8px  <0.5cm=100.0%  <1cm=100.0%\n"
     ]
    },
    {
     "name": "stderr",
     "output_type": "stream",
     "text": [
      "                                                          \r"
     ]
    },
    {
     "name": "stdout",
     "output_type": "stream",
     "text": [
      "[Fold1][3/50] Loss=66.2  IOU=0.122  Err=12.9px  <0.5cm=97.7%  <1cm=100.0%\n"
     ]
    },
    {
     "name": "stderr",
     "output_type": "stream",
     "text": [
      "                                                          \r"
     ]
    },
    {
     "name": "stdout",
     "output_type": "stream",
     "text": [
      "[Fold1][4/50] Loss=62.3  IOU=0.143  Err=10.4px  <0.5cm=97.7%  <1cm=100.0%\n"
     ]
    },
    {
     "name": "stderr",
     "output_type": "stream",
     "text": [
      "                                                          \r"
     ]
    },
    {
     "name": "stdout",
     "output_type": "stream",
     "text": [
      "[Fold1][5/50] Loss=55.3  IOU=0.091  Err=13.0px  <0.5cm=100.0%  <1cm=100.0%\n"
     ]
    },
    {
     "name": "stderr",
     "output_type": "stream",
     "text": [
      "                                                          \r"
     ]
    },
    {
     "name": "stdout",
     "output_type": "stream",
     "text": [
      "[Fold1][6/50] Loss=47.0  IOU=0.175  Err=11.4px  <0.5cm=100.0%  <1cm=100.0%\n"
     ]
    },
    {
     "name": "stderr",
     "output_type": "stream",
     "text": [
      "                                                          \r"
     ]
    },
    {
     "name": "stdout",
     "output_type": "stream",
     "text": [
      "[Fold1][7/50] Loss=38.8  IOU=0.160  Err=9.4px  <0.5cm=97.7%  <1cm=100.0%\n"
     ]
    },
    {
     "name": "stderr",
     "output_type": "stream",
     "text": [
      "                                                          \r"
     ]
    },
    {
     "name": "stdout",
     "output_type": "stream",
     "text": [
      "[Fold1][8/50] Loss=31.2  IOU=0.201  Err=12.2px  <0.5cm=97.7%  <1cm=100.0%\n"
     ]
    },
    {
     "name": "stderr",
     "output_type": "stream",
     "text": [
      "                                                          \r"
     ]
    },
    {
     "name": "stdout",
     "output_type": "stream",
     "text": [
      "[Fold1][9/50] Loss=25.6  IOU=0.134  Err=11.6px  <0.5cm=93.2%  <1cm=97.7%\n"
     ]
    },
    {
     "name": "stderr",
     "output_type": "stream",
     "text": [
      "                                                           \r"
     ]
    },
    {
     "name": "stdout",
     "output_type": "stream",
     "text": [
      "[Fold1][10/50] Loss=22.2  IOU=0.206  Err=10.2px  <0.5cm=100.0%  <1cm=100.0%\n"
     ]
    },
    {
     "name": "stderr",
     "output_type": "stream",
     "text": [
      "                                                           \r"
     ]
    },
    {
     "name": "stdout",
     "output_type": "stream",
     "text": [
      "[Fold1][11/50] Loss=19.5  IOU=0.197  Err=6.4px  <0.5cm=100.0%  <1cm=100.0%\n"
     ]
    },
    {
     "name": "stderr",
     "output_type": "stream",
     "text": [
      "                                                           \r"
     ]
    },
    {
     "name": "stdout",
     "output_type": "stream",
     "text": [
      "[Fold1][12/50] Loss=17.6  IOU=0.192  Err=5.6px  <0.5cm=100.0%  <1cm=100.0%\n"
     ]
    },
    {
     "name": "stderr",
     "output_type": "stream",
     "text": [
      "                                                           \r"
     ]
    },
    {
     "name": "stdout",
     "output_type": "stream",
     "text": [
      "[Fold1][13/50] Loss=16.1  IOU=0.198  Err=5.4px  <0.5cm=100.0%  <1cm=100.0%\n"
     ]
    },
    {
     "name": "stderr",
     "output_type": "stream",
     "text": [
      "                                                           \r"
     ]
    },
    {
     "name": "stdout",
     "output_type": "stream",
     "text": [
      "[Fold1][14/50] Loss=14.7  IOU=0.195  Err=8.1px  <0.5cm=95.5%  <1cm=100.0%\n"
     ]
    },
    {
     "name": "stderr",
     "output_type": "stream",
     "text": [
      "                                                           \r"
     ]
    },
    {
     "name": "stdout",
     "output_type": "stream",
     "text": [
      "[Fold1][15/50] Loss=13.5  IOU=0.149  Err=7.5px  <0.5cm=100.0%  <1cm=100.0%\n"
     ]
    },
    {
     "name": "stderr",
     "output_type": "stream",
     "text": [
      "                                                           \r"
     ]
    },
    {
     "name": "stdout",
     "output_type": "stream",
     "text": [
      "[Fold1][16/50] Loss=12.5  IOU=0.185  Err=6.7px  <0.5cm=100.0%  <1cm=100.0%\n"
     ]
    },
    {
     "name": "stderr",
     "output_type": "stream",
     "text": [
      "                                                           \r"
     ]
    },
    {
     "name": "stdout",
     "output_type": "stream",
     "text": [
      "[Fold1][17/50] Loss=11.9  IOU=0.113  Err=8.0px  <0.5cm=100.0%  <1cm=100.0%\n"
     ]
    },
    {
     "name": "stderr",
     "output_type": "stream",
     "text": [
      "                                                           \r"
     ]
    },
    {
     "name": "stdout",
     "output_type": "stream",
     "text": [
      "[Fold1][18/50] Loss=11.2  IOU=0.157  Err=7.8px  <0.5cm=100.0%  <1cm=100.0%\n"
     ]
    },
    {
     "name": "stderr",
     "output_type": "stream",
     "text": [
      "                                                           \r"
     ]
    },
    {
     "name": "stdout",
     "output_type": "stream",
     "text": [
      "[Fold1][19/50] Loss=10.5  IOU=0.150  Err=7.4px  <0.5cm=100.0%  <1cm=100.0%\n"
     ]
    },
    {
     "name": "stderr",
     "output_type": "stream",
     "text": [
      "                                                           \r"
     ]
    },
    {
     "name": "stdout",
     "output_type": "stream",
     "text": [
      "[Fold1][20/50] Loss=10.0  IOU=0.148  Err=7.2px  <0.5cm=100.0%  <1cm=100.0%\n"
     ]
    },
    {
     "name": "stderr",
     "output_type": "stream",
     "text": [
      "                                                           \r"
     ]
    },
    {
     "name": "stdout",
     "output_type": "stream",
     "text": [
      "[Fold1][21/50] Loss=9.7  IOU=0.155  Err=7.7px  <0.5cm=100.0%  <1cm=100.0%\n"
     ]
    },
    {
     "name": "stderr",
     "output_type": "stream",
     "text": [
      "                                                           \r"
     ]
    },
    {
     "name": "stdout",
     "output_type": "stream",
     "text": [
      "[Fold1][22/50] Loss=9.3  IOU=0.135  Err=8.0px  <0.5cm=100.0%  <1cm=100.0%\n"
     ]
    },
    {
     "name": "stderr",
     "output_type": "stream",
     "text": [
      "                                                           \r"
     ]
    },
    {
     "name": "stdout",
     "output_type": "stream",
     "text": [
      "[Fold1][23/50] Loss=9.0  IOU=0.151  Err=7.6px  <0.5cm=100.0%  <1cm=100.0%\n"
     ]
    },
    {
     "name": "stderr",
     "output_type": "stream",
     "text": [
      "                                                           \r"
     ]
    },
    {
     "name": "stdout",
     "output_type": "stream",
     "text": [
      "[Fold1][24/50] Loss=8.4  IOU=0.145  Err=6.2px  <0.5cm=100.0%  <1cm=100.0%\n"
     ]
    },
    {
     "name": "stderr",
     "output_type": "stream",
     "text": [
      "                                                           \r"
     ]
    },
    {
     "name": "stdout",
     "output_type": "stream",
     "text": [
      "[Fold1][25/50] Loss=8.0  IOU=0.150  Err=8.8px  <0.5cm=100.0%  <1cm=100.0%\n"
     ]
    },
    {
     "name": "stderr",
     "output_type": "stream",
     "text": [
      "                                                           \r"
     ]
    },
    {
     "name": "stdout",
     "output_type": "stream",
     "text": [
      "[Fold1][26/50] Loss=8.0  IOU=0.168  Err=8.9px  <0.5cm=100.0%  <1cm=100.0%\n"
     ]
    },
    {
     "name": "stderr",
     "output_type": "stream",
     "text": [
      "                                                           \r"
     ]
    },
    {
     "name": "stdout",
     "output_type": "stream",
     "text": [
      "[Fold1][27/50] Loss=8.1  IOU=0.143  Err=8.8px  <0.5cm=95.5%  <1cm=100.0%\n"
     ]
    },
    {
     "name": "stderr",
     "output_type": "stream",
     "text": [
      "                                                           \r"
     ]
    },
    {
     "name": "stdout",
     "output_type": "stream",
     "text": [
      "[Fold1][28/50] Loss=7.6  IOU=0.134  Err=10.6px  <0.5cm=95.5%  <1cm=100.0%\n"
     ]
    },
    {
     "name": "stderr",
     "output_type": "stream",
     "text": [
      "                                                           \r"
     ]
    },
    {
     "name": "stdout",
     "output_type": "stream",
     "text": [
      "[Fold1][29/50] Loss=7.2  IOU=0.165  Err=8.3px  <0.5cm=94.7%  <1cm=100.0%\n"
     ]
    },
    {
     "name": "stderr",
     "output_type": "stream",
     "text": [
      "                                                           \r"
     ]
    },
    {
     "name": "stdout",
     "output_type": "stream",
     "text": [
      "[Fold1][30/50] Loss=7.2  IOU=0.143  Err=10.1px  <0.5cm=90.2%  <1cm=100.0%\n"
     ]
    },
    {
     "name": "stderr",
     "output_type": "stream",
     "text": [
      "                                                           \r"
     ]
    },
    {
     "name": "stdout",
     "output_type": "stream",
     "text": [
      "[Fold1][31/50] Loss=7.0  IOU=0.170  Err=6.8px  <0.5cm=100.0%  <1cm=100.0%\n"
     ]
    },
    {
     "name": "stderr",
     "output_type": "stream",
     "text": [
      "                                                           \r"
     ]
    },
    {
     "name": "stdout",
     "output_type": "stream",
     "text": [
      "[Fold1][32/50] Loss=6.8  IOU=0.110  Err=7.3px  <0.5cm=100.0%  <1cm=100.0%\n"
     ]
    },
    {
     "name": "stderr",
     "output_type": "stream",
     "text": [
      "                                                           \r"
     ]
    },
    {
     "name": "stdout",
     "output_type": "stream",
     "text": [
      "[Fold1][33/50] Loss=6.7  IOU=0.152  Err=6.8px  <0.5cm=100.0%  <1cm=100.0%\n"
     ]
    },
    {
     "name": "stderr",
     "output_type": "stream",
     "text": [
      "                                                           \r"
     ]
    },
    {
     "name": "stdout",
     "output_type": "stream",
     "text": [
      "[Fold1][34/50] Loss=6.4  IOU=0.148  Err=7.0px  <0.5cm=100.0%  <1cm=100.0%\n"
     ]
    },
    {
     "name": "stderr",
     "output_type": "stream",
     "text": [
      "                                                           \r"
     ]
    },
    {
     "name": "stdout",
     "output_type": "stream",
     "text": [
      "[Fold1][35/50] Loss=6.3  IOU=0.164  Err=6.5px  <0.5cm=100.0%  <1cm=100.0%\n"
     ]
    },
    {
     "name": "stderr",
     "output_type": "stream",
     "text": [
      "                                                           \r"
     ]
    },
    {
     "name": "stdout",
     "output_type": "stream",
     "text": [
      "[Fold1][36/50] Loss=6.1  IOU=0.135  Err=8.8px  <0.5cm=100.0%  <1cm=100.0%\n"
     ]
    },
    {
     "name": "stderr",
     "output_type": "stream",
     "text": [
      "                                                           \r"
     ]
    },
    {
     "name": "stdout",
     "output_type": "stream",
     "text": [
      "[Fold1][37/50] Loss=6.1  IOU=0.147  Err=6.7px  <0.5cm=100.0%  <1cm=100.0%\n"
     ]
    },
    {
     "name": "stderr",
     "output_type": "stream",
     "text": [
      "                                                           \r"
     ]
    },
    {
     "name": "stdout",
     "output_type": "stream",
     "text": [
      "[Fold1][38/50] Loss=5.9  IOU=0.164  Err=8.8px  <0.5cm=100.0%  <1cm=100.0%\n"
     ]
    },
    {
     "name": "stderr",
     "output_type": "stream",
     "text": [
      "                                                           \r"
     ]
    },
    {
     "name": "stdout",
     "output_type": "stream",
     "text": [
      "[Fold1][39/50] Loss=5.9  IOU=0.143  Err=6.3px  <0.5cm=100.0%  <1cm=100.0%\n"
     ]
    },
    {
     "name": "stderr",
     "output_type": "stream",
     "text": [
      "                                                           \r"
     ]
    },
    {
     "name": "stdout",
     "output_type": "stream",
     "text": [
      "[Fold1][40/50] Loss=5.8  IOU=0.149  Err=7.1px  <0.5cm=100.0%  <1cm=100.0%\n",
      "🛑 提前停止 Fold1 於 Epoch 40\n",
      "=== 開始訓練 Fold2 ===\n"
     ]
    },
    {
     "name": "stderr",
     "output_type": "stream",
     "text": [
      "                                                          \r"
     ]
    },
    {
     "name": "stdout",
     "output_type": "stream",
     "text": [
      "[Fold2][1/50] Loss=72.8  IOU=0.012  Err=84.2px  <0.5cm=0.0%  <1cm=15.9%\n"
     ]
    },
    {
     "name": "stderr",
     "output_type": "stream",
     "text": [
      "                                                          \r"
     ]
    },
    {
     "name": "stdout",
     "output_type": "stream",
     "text": [
      "[Fold2][2/50] Loss=68.3  IOU=0.079  Err=17.8px  <0.5cm=97.7%  <1cm=100.0%\n"
     ]
    },
    {
     "name": "stderr",
     "output_type": "stream",
     "text": [
      "                                                          \r"
     ]
    },
    {
     "name": "stdout",
     "output_type": "stream",
     "text": [
      "[Fold2][3/50] Loss=64.1  IOU=0.174  Err=14.8px  <0.5cm=88.6%  <1cm=100.0%\n"
     ]
    },
    {
     "name": "stderr",
     "output_type": "stream",
     "text": [
      "                                                          \r"
     ]
    },
    {
     "name": "stdout",
     "output_type": "stream",
     "text": [
      "[Fold2][4/50] Loss=57.0  IOU=0.205  Err=9.0px  <0.5cm=100.0%  <1cm=100.0%\n"
     ]
    },
    {
     "name": "stderr",
     "output_type": "stream",
     "text": [
      "                                                          \r"
     ]
    },
    {
     "name": "stdout",
     "output_type": "stream",
     "text": [
      "[Fold2][5/50] Loss=46.6  IOU=0.145  Err=13.2px  <0.5cm=97.7%  <1cm=100.0%\n"
     ]
    },
    {
     "name": "stderr",
     "output_type": "stream",
     "text": [
      "                                                          \r"
     ]
    },
    {
     "name": "stdout",
     "output_type": "stream",
     "text": [
      "[Fold2][6/50] Loss=37.2  IOU=0.192  Err=15.1px  <0.5cm=90.9%  <1cm=95.5%\n"
     ]
    },
    {
     "name": "stderr",
     "output_type": "stream",
     "text": [
      "                                                          \r"
     ]
    },
    {
     "name": "stdout",
     "output_type": "stream",
     "text": [
      "[Fold2][7/50] Loss=29.3  IOU=0.099  Err=13.2px  <0.5cm=100.0%  <1cm=100.0%\n"
     ]
    },
    {
     "name": "stderr",
     "output_type": "stream",
     "text": [
      "                                                          \r"
     ]
    },
    {
     "name": "stdout",
     "output_type": "stream",
     "text": [
      "[Fold2][8/50] Loss=23.6  IOU=0.141  Err=11.1px  <0.5cm=97.7%  <1cm=100.0%\n"
     ]
    },
    {
     "name": "stderr",
     "output_type": "stream",
     "text": [
      "                                                          \r"
     ]
    },
    {
     "name": "stdout",
     "output_type": "stream",
     "text": [
      "[Fold2][9/50] Loss=20.7  IOU=0.240  Err=6.4px  <0.5cm=100.0%  <1cm=100.0%\n"
     ]
    },
    {
     "name": "stderr",
     "output_type": "stream",
     "text": [
      "                                                           \r"
     ]
    },
    {
     "name": "stdout",
     "output_type": "stream",
     "text": [
      "[Fold2][10/50] Loss=17.5  IOU=0.133  Err=7.3px  <0.5cm=100.0%  <1cm=100.0%\n"
     ]
    },
    {
     "name": "stderr",
     "output_type": "stream",
     "text": [
      "                                                           \r"
     ]
    },
    {
     "name": "stdout",
     "output_type": "stream",
     "text": [
      "[Fold2][11/50] Loss=15.7  IOU=0.132  Err=10.2px  <0.5cm=97.7%  <1cm=100.0%\n"
     ]
    },
    {
     "name": "stderr",
     "output_type": "stream",
     "text": [
      "                                                           \r"
     ]
    },
    {
     "name": "stdout",
     "output_type": "stream",
     "text": [
      "[Fold2][12/50] Loss=14.1  IOU=0.113  Err=9.1px  <0.5cm=100.0%  <1cm=100.0%\n"
     ]
    },
    {
     "name": "stderr",
     "output_type": "stream",
     "text": [
      "                                                           \r"
     ]
    },
    {
     "name": "stdout",
     "output_type": "stream",
     "text": [
      "[Fold2][13/50] Loss=13.3  IOU=0.113  Err=6.9px  <0.5cm=100.0%  <1cm=100.0%\n"
     ]
    },
    {
     "name": "stderr",
     "output_type": "stream",
     "text": [
      "                                                           \r"
     ]
    },
    {
     "name": "stdout",
     "output_type": "stream",
     "text": [
      "[Fold2][14/50] Loss=12.0  IOU=0.117  Err=9.1px  <0.5cm=100.0%  <1cm=100.0%\n"
     ]
    },
    {
     "name": "stderr",
     "output_type": "stream",
     "text": [
      "                                                           \r"
     ]
    },
    {
     "name": "stdout",
     "output_type": "stream",
     "text": [
      "[Fold2][15/50] Loss=11.1  IOU=0.156  Err=8.7px  <0.5cm=100.0%  <1cm=100.0%\n"
     ]
    },
    {
     "name": "stderr",
     "output_type": "stream",
     "text": [
      "                                                           \r"
     ]
    },
    {
     "name": "stdout",
     "output_type": "stream",
     "text": [
      "[Fold2][16/50] Loss=10.4  IOU=0.129  Err=8.0px  <0.5cm=100.0%  <1cm=100.0%\n"
     ]
    },
    {
     "name": "stderr",
     "output_type": "stream",
     "text": [
      "                                                           \r"
     ]
    },
    {
     "name": "stdout",
     "output_type": "stream",
     "text": [
      "[Fold2][17/50] Loss=9.9  IOU=0.125  Err=7.4px  <0.5cm=100.0%  <1cm=100.0%\n"
     ]
    },
    {
     "name": "stderr",
     "output_type": "stream",
     "text": [
      "                                                           \r"
     ]
    },
    {
     "name": "stdout",
     "output_type": "stream",
     "text": [
      "[Fold2][18/50] Loss=9.5  IOU=0.149  Err=8.7px  <0.5cm=100.0%  <1cm=100.0%\n"
     ]
    },
    {
     "name": "stderr",
     "output_type": "stream",
     "text": [
      "                                                           \r"
     ]
    },
    {
     "name": "stdout",
     "output_type": "stream",
     "text": [
      "[Fold2][19/50] Loss=9.0  IOU=0.155  Err=8.8px  <0.5cm=100.0%  <1cm=100.0%\n"
     ]
    },
    {
     "name": "stderr",
     "output_type": "stream",
     "text": [
      "                                                           \r"
     ]
    },
    {
     "name": "stdout",
     "output_type": "stream",
     "text": [
      "[Fold2][20/50] Loss=8.8  IOU=0.112  Err=9.7px  <0.5cm=100.0%  <1cm=100.0%\n"
     ]
    },
    {
     "name": "stderr",
     "output_type": "stream",
     "text": [
      "                                                           \r"
     ]
    },
    {
     "name": "stdout",
     "output_type": "stream",
     "text": [
      "[Fold2][21/50] Loss=8.6  IOU=0.142  Err=9.3px  <0.5cm=100.0%  <1cm=100.0%\n"
     ]
    },
    {
     "name": "stderr",
     "output_type": "stream",
     "text": [
      "                                                           \r"
     ]
    },
    {
     "name": "stdout",
     "output_type": "stream",
     "text": [
      "[Fold2][22/50] Loss=8.3  IOU=0.141  Err=9.0px  <0.5cm=100.0%  <1cm=100.0%\n"
     ]
    },
    {
     "name": "stderr",
     "output_type": "stream",
     "text": [
      "                                                           \r"
     ]
    },
    {
     "name": "stdout",
     "output_type": "stream",
     "text": [
      "[Fold2][23/50] Loss=8.0  IOU=0.118  Err=9.7px  <0.5cm=100.0%  <1cm=100.0%\n"
     ]
    },
    {
     "name": "stderr",
     "output_type": "stream",
     "text": [
      "                                                           \r"
     ]
    },
    {
     "name": "stdout",
     "output_type": "stream",
     "text": [
      "[Fold2][24/50] Loss=7.6  IOU=0.134  Err=9.6px  <0.5cm=100.0%  <1cm=100.0%\n"
     ]
    },
    {
     "name": "stderr",
     "output_type": "stream",
     "text": [
      "                                                           \r"
     ]
    },
    {
     "name": "stdout",
     "output_type": "stream",
     "text": [
      "[Fold2][25/50] Loss=7.4  IOU=0.141  Err=9.4px  <0.5cm=100.0%  <1cm=100.0%\n"
     ]
    },
    {
     "name": "stderr",
     "output_type": "stream",
     "text": [
      "                                                           \r"
     ]
    },
    {
     "name": "stdout",
     "output_type": "stream",
     "text": [
      "[Fold2][26/50] Loss=7.2  IOU=0.149  Err=8.9px  <0.5cm=100.0%  <1cm=100.0%\n"
     ]
    },
    {
     "name": "stderr",
     "output_type": "stream",
     "text": [
      "                                                           \r"
     ]
    },
    {
     "name": "stdout",
     "output_type": "stream",
     "text": [
      "[Fold2][27/50] Loss=7.1  IOU=0.153  Err=8.2px  <0.5cm=100.0%  <1cm=100.0%\n"
     ]
    },
    {
     "name": "stderr",
     "output_type": "stream",
     "text": [
      "                                                           \r"
     ]
    },
    {
     "name": "stdout",
     "output_type": "stream",
     "text": [
      "[Fold2][28/50] Loss=6.9  IOU=0.144  Err=8.6px  <0.5cm=100.0%  <1cm=100.0%\n"
     ]
    },
    {
     "name": "stderr",
     "output_type": "stream",
     "text": [
      "                                                           \r"
     ]
    },
    {
     "name": "stdout",
     "output_type": "stream",
     "text": [
      "[Fold2][29/50] Loss=6.8  IOU=0.106  Err=13.4px  <0.5cm=97.7%  <1cm=100.0%\n"
     ]
    },
    {
     "name": "stderr",
     "output_type": "stream",
     "text": [
      "                                                           \r"
     ]
    },
    {
     "name": "stdout",
     "output_type": "stream",
     "text": [
      "[Fold2][30/50] Loss=6.6  IOU=0.118  Err=9.9px  <0.5cm=100.0%  <1cm=100.0%\n"
     ]
    },
    {
     "name": "stderr",
     "output_type": "stream",
     "text": [
      "                                                           \r"
     ]
    },
    {
     "name": "stdout",
     "output_type": "stream",
     "text": [
      "[Fold2][31/50] Loss=6.5  IOU=0.125  Err=10.7px  <0.5cm=100.0%  <1cm=100.0%\n"
     ]
    },
    {
     "name": "stderr",
     "output_type": "stream",
     "text": [
      "                                                           \r"
     ]
    },
    {
     "name": "stdout",
     "output_type": "stream",
     "text": [
      "[Fold2][32/50] Loss=6.3  IOU=0.168  Err=9.1px  <0.5cm=100.0%  <1cm=100.0%\n"
     ]
    },
    {
     "name": "stderr",
     "output_type": "stream",
     "text": [
      "                                                           \r"
     ]
    },
    {
     "name": "stdout",
     "output_type": "stream",
     "text": [
      "[Fold2][33/50] Loss=6.2  IOU=0.122  Err=10.7px  <0.5cm=97.7%  <1cm=100.0%\n"
     ]
    },
    {
     "name": "stderr",
     "output_type": "stream",
     "text": [
      "                                                           \r"
     ]
    },
    {
     "name": "stdout",
     "output_type": "stream",
     "text": [
      "[Fold2][34/50] Loss=6.1  IOU=0.129  Err=10.3px  <0.5cm=100.0%  <1cm=100.0%\n"
     ]
    },
    {
     "name": "stderr",
     "output_type": "stream",
     "text": [
      "                                                           \r"
     ]
    },
    {
     "name": "stdout",
     "output_type": "stream",
     "text": [
      "[Fold2][35/50] Loss=6.0  IOU=0.125  Err=10.4px  <0.5cm=100.0%  <1cm=100.0%\n"
     ]
    },
    {
     "name": "stderr",
     "output_type": "stream",
     "text": [
      "                                                           \r"
     ]
    },
    {
     "name": "stdout",
     "output_type": "stream",
     "text": [
      "[Fold2][36/50] Loss=6.0  IOU=0.143  Err=10.8px  <0.5cm=100.0%  <1cm=100.0%\n"
     ]
    },
    {
     "name": "stderr",
     "output_type": "stream",
     "text": [
      "                                                           \r"
     ]
    },
    {
     "name": "stdout",
     "output_type": "stream",
     "text": [
      "[Fold2][37/50] Loss=5.9  IOU=0.138  Err=9.7px  <0.5cm=100.0%  <1cm=100.0%\n"
     ]
    },
    {
     "name": "stderr",
     "output_type": "stream",
     "text": [
      "                                                           \r"
     ]
    },
    {
     "name": "stdout",
     "output_type": "stream",
     "text": [
      "[Fold2][38/50] Loss=5.7  IOU=0.148  Err=12.0px  <0.5cm=97.7%  <1cm=100.0%\n"
     ]
    },
    {
     "name": "stderr",
     "output_type": "stream",
     "text": [
      "                                                           \r"
     ]
    },
    {
     "name": "stdout",
     "output_type": "stream",
     "text": [
      "[Fold2][39/50] Loss=5.6  IOU=0.178  Err=10.3px  <0.5cm=100.0%  <1cm=100.0%\n",
      "🛑 提前停止 Fold2 於 Epoch 39\n",
      "=== 開始訓練 Fold3 ===\n"
     ]
    },
    {
     "name": "stderr",
     "output_type": "stream",
     "text": [
      "                                                          \r"
     ]
    },
    {
     "name": "stdout",
     "output_type": "stream",
     "text": [
      "[Fold3][1/50] Loss=74.0  IOU=0.027  Err=46.3px  <0.5cm=36.4%  <1cm=84.1%\n"
     ]
    },
    {
     "name": "stderr",
     "output_type": "stream",
     "text": [
      "                                                          \r"
     ]
    },
    {
     "name": "stdout",
     "output_type": "stream",
     "text": [
      "[Fold3][2/50] Loss=68.8  IOU=0.108  Err=18.7px  <0.5cm=88.6%  <1cm=100.0%\n"
     ]
    },
    {
     "name": "stderr",
     "output_type": "stream",
     "text": [
      "                                                          \r"
     ]
    },
    {
     "name": "stdout",
     "output_type": "stream",
     "text": [
      "[Fold3][3/50] Loss=66.7  IOU=0.134  Err=11.1px  <0.5cm=97.7%  <1cm=100.0%\n"
     ]
    },
    {
     "name": "stderr",
     "output_type": "stream",
     "text": [
      "                                                          \r"
     ]
    },
    {
     "name": "stdout",
     "output_type": "stream",
     "text": [
      "[Fold3][4/50] Loss=64.1  IOU=0.137  Err=21.8px  <0.5cm=88.6%  <1cm=100.0%\n"
     ]
    },
    {
     "name": "stderr",
     "output_type": "stream",
     "text": [
      "                                                          \r"
     ]
    },
    {
     "name": "stdout",
     "output_type": "stream",
     "text": [
      "[Fold3][5/50] Loss=59.2  IOU=0.171  Err=22.7px  <0.5cm=84.1%  <1cm=88.6%\n"
     ]
    },
    {
     "name": "stderr",
     "output_type": "stream",
     "text": [
      "                                                          \r"
     ]
    },
    {
     "name": "stdout",
     "output_type": "stream",
     "text": [
      "[Fold3][6/50] Loss=54.4  IOU=0.237  Err=6.1px  <0.5cm=100.0%  <1cm=100.0%\n"
     ]
    },
    {
     "name": "stderr",
     "output_type": "stream",
     "text": [
      "                                                          \r"
     ]
    },
    {
     "name": "stdout",
     "output_type": "stream",
     "text": [
      "[Fold3][7/50] Loss=47.0  IOU=0.176  Err=29.5px  <0.5cm=59.1%  <1cm=90.9%\n"
     ]
    },
    {
     "name": "stderr",
     "output_type": "stream",
     "text": [
      "                                                          \r"
     ]
    },
    {
     "name": "stdout",
     "output_type": "stream",
     "text": [
      "[Fold3][8/50] Loss=40.8  IOU=0.141  Err=8.3px  <0.5cm=97.7%  <1cm=100.0%\n"
     ]
    },
    {
     "name": "stderr",
     "output_type": "stream",
     "text": [
      "                                                          \r"
     ]
    },
    {
     "name": "stdout",
     "output_type": "stream",
     "text": [
      "[Fold3][9/50] Loss=38.5  IOU=0.180  Err=7.3px  <0.5cm=97.7%  <1cm=100.0%\n"
     ]
    },
    {
     "name": "stderr",
     "output_type": "stream",
     "text": [
      "                                                           \r"
     ]
    },
    {
     "name": "stdout",
     "output_type": "stream",
     "text": [
      "[Fold3][10/50] Loss=29.5  IOU=0.229  Err=5.9px  <0.5cm=100.0%  <1cm=100.0%\n"
     ]
    },
    {
     "name": "stderr",
     "output_type": "stream",
     "text": [
      "                                                           \r"
     ]
    },
    {
     "name": "stdout",
     "output_type": "stream",
     "text": [
      "[Fold3][11/50] Loss=23.9  IOU=0.218  Err=8.3px  <0.5cm=97.7%  <1cm=97.7%\n"
     ]
    },
    {
     "name": "stderr",
     "output_type": "stream",
     "text": [
      "                                                           \r"
     ]
    },
    {
     "name": "stdout",
     "output_type": "stream",
     "text": [
      "[Fold3][12/50] Loss=20.5  IOU=0.247  Err=7.4px  <0.5cm=97.7%  <1cm=100.0%\n"
     ]
    },
    {
     "name": "stderr",
     "output_type": "stream",
     "text": [
      "                                                           \r"
     ]
    },
    {
     "name": "stdout",
     "output_type": "stream",
     "text": [
      "[Fold3][13/50] Loss=18.4  IOU=0.226  Err=6.2px  <0.5cm=97.7%  <1cm=100.0%\n"
     ]
    },
    {
     "name": "stderr",
     "output_type": "stream",
     "text": [
      "                                                           \r"
     ]
    },
    {
     "name": "stdout",
     "output_type": "stream",
     "text": [
      "[Fold3][14/50] Loss=17.0  IOU=0.246  Err=6.8px  <0.5cm=100.0%  <1cm=100.0%\n"
     ]
    },
    {
     "name": "stderr",
     "output_type": "stream",
     "text": [
      "                                                           \r"
     ]
    },
    {
     "name": "stdout",
     "output_type": "stream",
     "text": [
      "[Fold3][15/50] Loss=16.2  IOU=0.219  Err=5.1px  <0.5cm=100.0%  <1cm=100.0%\n"
     ]
    },
    {
     "name": "stderr",
     "output_type": "stream",
     "text": [
      "                                                           \r"
     ]
    },
    {
     "name": "stdout",
     "output_type": "stream",
     "text": [
      "[Fold3][16/50] Loss=15.4  IOU=0.228  Err=6.3px  <0.5cm=100.0%  <1cm=100.0%\n"
     ]
    },
    {
     "name": "stderr",
     "output_type": "stream",
     "text": [
      "                                                           \r"
     ]
    },
    {
     "name": "stdout",
     "output_type": "stream",
     "text": [
      "[Fold3][17/50] Loss=14.9  IOU=0.160  Err=10.8px  <0.5cm=97.0%  <1cm=100.0%\n"
     ]
    },
    {
     "name": "stderr",
     "output_type": "stream",
     "text": [
      "                                                           \r"
     ]
    },
    {
     "name": "stdout",
     "output_type": "stream",
     "text": [
      "[Fold3][18/50] Loss=15.4  IOU=0.203  Err=6.8px  <0.5cm=100.0%  <1cm=100.0%\n"
     ]
    },
    {
     "name": "stderr",
     "output_type": "stream",
     "text": [
      "                                                           \r"
     ]
    },
    {
     "name": "stdout",
     "output_type": "stream",
     "text": [
      "[Fold3][19/50] Loss=14.9  IOU=0.214  Err=4.0px  <0.5cm=100.0%  <1cm=100.0%\n"
     ]
    },
    {
     "name": "stderr",
     "output_type": "stream",
     "text": [
      "                                                           \r"
     ]
    },
    {
     "name": "stdout",
     "output_type": "stream",
     "text": [
      "[Fold3][20/50] Loss=14.0  IOU=0.254  Err=5.0px  <0.5cm=100.0%  <1cm=100.0%\n"
     ]
    },
    {
     "name": "stderr",
     "output_type": "stream",
     "text": [
      "                                                           \r"
     ]
    },
    {
     "name": "stdout",
     "output_type": "stream",
     "text": [
      "[Fold3][21/50] Loss=12.8  IOU=0.208  Err=4.8px  <0.5cm=100.0%  <1cm=100.0%\n"
     ]
    },
    {
     "name": "stderr",
     "output_type": "stream",
     "text": [
      "                                                           \r"
     ]
    },
    {
     "name": "stdout",
     "output_type": "stream",
     "text": [
      "[Fold3][22/50] Loss=12.0  IOU=0.255  Err=5.6px  <0.5cm=100.0%  <1cm=100.0%\n"
     ]
    },
    {
     "name": "stderr",
     "output_type": "stream",
     "text": [
      "                                                           \r"
     ]
    },
    {
     "name": "stdout",
     "output_type": "stream",
     "text": [
      "[Fold3][23/50] Loss=11.4  IOU=0.207  Err=5.1px  <0.5cm=100.0%  <1cm=100.0%\n"
     ]
    },
    {
     "name": "stderr",
     "output_type": "stream",
     "text": [
      "                                                           \r"
     ]
    },
    {
     "name": "stdout",
     "output_type": "stream",
     "text": [
      "[Fold3][24/50] Loss=10.8  IOU=0.243  Err=5.8px  <0.5cm=100.0%  <1cm=100.0%\n"
     ]
    },
    {
     "name": "stderr",
     "output_type": "stream",
     "text": [
      "                                                           \r"
     ]
    },
    {
     "name": "stdout",
     "output_type": "stream",
     "text": [
      "[Fold3][25/50] Loss=10.1  IOU=0.202  Err=7.7px  <0.5cm=100.0%  <1cm=100.0%\n"
     ]
    },
    {
     "name": "stderr",
     "output_type": "stream",
     "text": [
      "                                                           \r"
     ]
    },
    {
     "name": "stdout",
     "output_type": "stream",
     "text": [
      "[Fold3][26/50] Loss=9.8  IOU=0.222  Err=5.0px  <0.5cm=100.0%  <1cm=100.0%\n"
     ]
    },
    {
     "name": "stderr",
     "output_type": "stream",
     "text": [
      "                                                           \r"
     ]
    },
    {
     "name": "stdout",
     "output_type": "stream",
     "text": [
      "[Fold3][27/50] Loss=9.4  IOU=0.243  Err=5.8px  <0.5cm=100.0%  <1cm=100.0%\n"
     ]
    },
    {
     "name": "stderr",
     "output_type": "stream",
     "text": [
      "                                                           \r"
     ]
    },
    {
     "name": "stdout",
     "output_type": "stream",
     "text": [
      "[Fold3][28/50] Loss=9.0  IOU=0.213  Err=4.9px  <0.5cm=100.0%  <1cm=100.0%\n"
     ]
    },
    {
     "name": "stderr",
     "output_type": "stream",
     "text": [
      "                                                           \r"
     ]
    },
    {
     "name": "stdout",
     "output_type": "stream",
     "text": [
      "[Fold3][29/50] Loss=8.9  IOU=0.175  Err=6.6px  <0.5cm=100.0%  <1cm=100.0%\n"
     ]
    },
    {
     "name": "stderr",
     "output_type": "stream",
     "text": [
      "                                                           \r"
     ]
    },
    {
     "name": "stdout",
     "output_type": "stream",
     "text": [
      "[Fold3][30/50] Loss=8.6  IOU=0.232  Err=5.3px  <0.5cm=100.0%  <1cm=100.0%\n"
     ]
    },
    {
     "name": "stderr",
     "output_type": "stream",
     "text": [
      "                                                           \r"
     ]
    },
    {
     "name": "stdout",
     "output_type": "stream",
     "text": [
      "[Fold3][31/50] Loss=8.3  IOU=0.215  Err=5.3px  <0.5cm=100.0%  <1cm=100.0%\n"
     ]
    },
    {
     "name": "stderr",
     "output_type": "stream",
     "text": [
      "                                                           \r"
     ]
    },
    {
     "name": "stdout",
     "output_type": "stream",
     "text": [
      "[Fold3][32/50] Loss=8.0  IOU=0.176  Err=6.7px  <0.5cm=100.0%  <1cm=100.0%\n"
     ]
    },
    {
     "name": "stderr",
     "output_type": "stream",
     "text": [
      "                                                           \r"
     ]
    },
    {
     "name": "stdout",
     "output_type": "stream",
     "text": [
      "[Fold3][33/50] Loss=7.7  IOU=0.230  Err=5.3px  <0.5cm=100.0%  <1cm=100.0%\n"
     ]
    },
    {
     "name": "stderr",
     "output_type": "stream",
     "text": [
      "                                                           \r"
     ]
    },
    {
     "name": "stdout",
     "output_type": "stream",
     "text": [
      "[Fold3][34/50] Loss=7.7  IOU=0.197  Err=6.3px  <0.5cm=100.0%  <1cm=100.0%\n"
     ]
    },
    {
     "name": "stderr",
     "output_type": "stream",
     "text": [
      "                                                           \r"
     ]
    },
    {
     "name": "stdout",
     "output_type": "stream",
     "text": [
      "[Fold3][35/50] Loss=7.4  IOU=0.216  Err=4.9px  <0.5cm=100.0%  <1cm=100.0%\n"
     ]
    },
    {
     "name": "stderr",
     "output_type": "stream",
     "text": [
      "                                                           \r"
     ]
    },
    {
     "name": "stdout",
     "output_type": "stream",
     "text": [
      "[Fold3][36/50] Loss=7.4  IOU=0.193  Err=4.8px  <0.5cm=100.0%  <1cm=100.0%\n"
     ]
    },
    {
     "name": "stderr",
     "output_type": "stream",
     "text": [
      "                                                           \r"
     ]
    },
    {
     "name": "stdout",
     "output_type": "stream",
     "text": [
      "[Fold3][37/50] Loss=7.1  IOU=0.187  Err=6.2px  <0.5cm=100.0%  <1cm=100.0%\n"
     ]
    },
    {
     "name": "stderr",
     "output_type": "stream",
     "text": [
      "                                                           \r"
     ]
    },
    {
     "name": "stdout",
     "output_type": "stream",
     "text": [
      "[Fold3][38/50] Loss=6.9  IOU=0.198  Err=6.4px  <0.5cm=100.0%  <1cm=100.0%\n"
     ]
    },
    {
     "name": "stderr",
     "output_type": "stream",
     "text": [
      "                                                           \r"
     ]
    },
    {
     "name": "stdout",
     "output_type": "stream",
     "text": [
      "[Fold3][39/50] Loss=6.8  IOU=0.180  Err=5.4px  <0.5cm=100.0%  <1cm=100.0%\n"
     ]
    },
    {
     "name": "stderr",
     "output_type": "stream",
     "text": [
      "                                                           \r"
     ]
    },
    {
     "name": "stdout",
     "output_type": "stream",
     "text": [
      "[Fold3][40/50] Loss=6.7  IOU=0.200  Err=5.7px  <0.5cm=100.0%  <1cm=100.0%\n"
     ]
    },
    {
     "name": "stderr",
     "output_type": "stream",
     "text": [
      "                                                           \r"
     ]
    },
    {
     "name": "stdout",
     "output_type": "stream",
     "text": [
      "[Fold3][41/50] Loss=6.4  IOU=0.187  Err=7.6px  <0.5cm=100.0%  <1cm=100.0%\n"
     ]
    },
    {
     "name": "stderr",
     "output_type": "stream",
     "text": [
      "                                                           \r"
     ]
    },
    {
     "name": "stdout",
     "output_type": "stream",
     "text": [
      "[Fold3][42/50] Loss=6.4  IOU=0.202  Err=6.3px  <0.5cm=100.0%  <1cm=100.0%\n"
     ]
    },
    {
     "name": "stderr",
     "output_type": "stream",
     "text": [
      "                                                           \r"
     ]
    },
    {
     "name": "stdout",
     "output_type": "stream",
     "text": [
      "[Fold3][43/50] Loss=6.2  IOU=0.217  Err=6.0px  <0.5cm=100.0%  <1cm=100.0%\n"
     ]
    },
    {
     "name": "stderr",
     "output_type": "stream",
     "text": [
      "                                                           \r"
     ]
    },
    {
     "name": "stdout",
     "output_type": "stream",
     "text": [
      "[Fold3][44/50] Loss=6.2  IOU=0.220  Err=6.1px  <0.5cm=100.0%  <1cm=100.0%\n"
     ]
    },
    {
     "name": "stderr",
     "output_type": "stream",
     "text": [
      "                                                           \r"
     ]
    },
    {
     "name": "stdout",
     "output_type": "stream",
     "text": [
      "[Fold3][45/50] Loss=6.7  IOU=0.178  Err=7.5px  <0.5cm=100.0%  <1cm=100.0%\n"
     ]
    },
    {
     "name": "stderr",
     "output_type": "stream",
     "text": [
      "                                                           \r"
     ]
    },
    {
     "name": "stdout",
     "output_type": "stream",
     "text": [
      "[Fold3][46/50] Loss=7.5  IOU=0.149  Err=6.9px  <0.5cm=100.0%  <1cm=100.0%\n"
     ]
    },
    {
     "name": "stderr",
     "output_type": "stream",
     "text": [
      "                                                           \r"
     ]
    },
    {
     "name": "stdout",
     "output_type": "stream",
     "text": [
      "[Fold3][47/50] Loss=7.2  IOU=0.223  Err=6.9px  <0.5cm=100.0%  <1cm=100.0%\n"
     ]
    },
    {
     "name": "stderr",
     "output_type": "stream",
     "text": [
      "                                                           \r"
     ]
    },
    {
     "name": "stdout",
     "output_type": "stream",
     "text": [
      "[Fold3][48/50] Loss=6.6  IOU=0.212  Err=6.4px  <0.5cm=100.0%  <1cm=100.0%\n"
     ]
    },
    {
     "name": "stderr",
     "output_type": "stream",
     "text": [
      "                                                           \r"
     ]
    },
    {
     "name": "stdout",
     "output_type": "stream",
     "text": [
      "[Fold3][49/50] Loss=6.1  IOU=0.167  Err=7.1px  <0.5cm=100.0%  <1cm=100.0%\n"
     ]
    },
    {
     "name": "stderr",
     "output_type": "stream",
     "text": [
      "                                                           \r"
     ]
    },
    {
     "name": "stdout",
     "output_type": "stream",
     "text": [
      "[Fold3][50/50] Loss=7.6  IOU=0.156  Err=8.4px  <0.5cm=100.0%  <1cm=100.0%\n",
      "=== 開始訓練 Fold4 ===\n"
     ]
    },
    {
     "name": "stderr",
     "output_type": "stream",
     "text": [
      "                                                          \r"
     ]
    },
    {
     "name": "stdout",
     "output_type": "stream",
     "text": [
      "[Fold4][1/50] Loss=76.3  IOU=0.034  Err=33.2px  <0.5cm=75.0%  <1cm=91.7%\n"
     ]
    },
    {
     "name": "stderr",
     "output_type": "stream",
     "text": [
      "                                                          \r"
     ]
    },
    {
     "name": "stdout",
     "output_type": "stream",
     "text": [
      "[Fold4][2/50] Loss=69.6  IOU=0.100  Err=13.7px  <0.5cm=93.8%  <1cm=100.0%\n"
     ]
    },
    {
     "name": "stderr",
     "output_type": "stream",
     "text": [
      "                                                          \r"
     ]
    },
    {
     "name": "stdout",
     "output_type": "stream",
     "text": [
      "[Fold4][3/50] Loss=68.1  IOU=0.144  Err=10.7px  <0.5cm=91.7%  <1cm=95.8%\n"
     ]
    },
    {
     "name": "stderr",
     "output_type": "stream",
     "text": [
      "                                                          \r"
     ]
    },
    {
     "name": "stdout",
     "output_type": "stream",
     "text": [
      "[Fold4][4/50] Loss=66.1  IOU=0.142  Err=9.9px  <0.5cm=95.8%  <1cm=100.0%\n"
     ]
    },
    {
     "name": "stderr",
     "output_type": "stream",
     "text": [
      "                                                          \r"
     ]
    },
    {
     "name": "stdout",
     "output_type": "stream",
     "text": [
      "[Fold4][5/50] Loss=63.3  IOU=0.177  Err=14.4px  <0.5cm=91.7%  <1cm=93.8%\n"
     ]
    },
    {
     "name": "stderr",
     "output_type": "stream",
     "text": [
      "                                                          \r"
     ]
    },
    {
     "name": "stdout",
     "output_type": "stream",
     "text": [
      "[Fold4][6/50] Loss=59.2  IOU=0.177  Err=10.7px  <0.5cm=100.0%  <1cm=100.0%\n"
     ]
    },
    {
     "name": "stderr",
     "output_type": "stream",
     "text": [
      "                                                          \r"
     ]
    },
    {
     "name": "stdout",
     "output_type": "stream",
     "text": [
      "[Fold4][7/50] Loss=50.5  IOU=0.248  Err=10.4px  <0.5cm=97.9%  <1cm=100.0%\n"
     ]
    },
    {
     "name": "stderr",
     "output_type": "stream",
     "text": [
      "                                                          \r"
     ]
    },
    {
     "name": "stdout",
     "output_type": "stream",
     "text": [
      "[Fold4][8/50] Loss=43.5  IOU=0.117  Err=93.9px  <0.5cm=22.9%  <1cm=60.4%\n"
     ]
    },
    {
     "name": "stderr",
     "output_type": "stream",
     "text": [
      "                                                          \r"
     ]
    },
    {
     "name": "stdout",
     "output_type": "stream",
     "text": [
      "[Fold4][9/50] Loss=34.9  IOU=0.112  Err=104.1px  <0.5cm=6.2%  <1cm=27.1%\n"
     ]
    },
    {
     "name": "stderr",
     "output_type": "stream",
     "text": [
      "                                                           \r"
     ]
    },
    {
     "name": "stdout",
     "output_type": "stream",
     "text": [
      "[Fold4][10/50] Loss=27.5  IOU=0.139  Err=73.5px  <0.5cm=40.3%  <1cm=50.7%\n"
     ]
    },
    {
     "name": "stderr",
     "output_type": "stream",
     "text": [
      "                                                           \r"
     ]
    },
    {
     "name": "stdout",
     "output_type": "stream",
     "text": [
      "[Fold4][11/50] Loss=23.0  IOU=0.223  Err=7.7px  <0.5cm=100.0%  <1cm=100.0%\n"
     ]
    },
    {
     "name": "stderr",
     "output_type": "stream",
     "text": [
      "                                                           \r"
     ]
    },
    {
     "name": "stdout",
     "output_type": "stream",
     "text": [
      "[Fold4][12/50] Loss=20.6  IOU=0.172  Err=18.9px  <0.5cm=88.2%  <1cm=92.4%\n"
     ]
    },
    {
     "name": "stderr",
     "output_type": "stream",
     "text": [
      "                                                           \r"
     ]
    },
    {
     "name": "stdout",
     "output_type": "stream",
     "text": [
      "[Fold4][13/50] Loss=19.0  IOU=0.181  Err=7.5px  <0.5cm=100.0%  <1cm=100.0%\n"
     ]
    },
    {
     "name": "stderr",
     "output_type": "stream",
     "text": [
      "                                                           \r"
     ]
    },
    {
     "name": "stdout",
     "output_type": "stream",
     "text": [
      "[Fold4][14/50] Loss=17.4  IOU=0.217  Err=7.6px  <0.5cm=100.0%  <1cm=100.0%\n"
     ]
    },
    {
     "name": "stderr",
     "output_type": "stream",
     "text": [
      "                                                           \r"
     ]
    },
    {
     "name": "stdout",
     "output_type": "stream",
     "text": [
      "[Fold4][15/50] Loss=16.1  IOU=0.199  Err=8.0px  <0.5cm=100.0%  <1cm=100.0%\n"
     ]
    },
    {
     "name": "stderr",
     "output_type": "stream",
     "text": [
      "                                                           \r"
     ]
    },
    {
     "name": "stdout",
     "output_type": "stream",
     "text": [
      "[Fold4][16/50] Loss=15.1  IOU=0.220  Err=7.3px  <0.5cm=100.0%  <1cm=100.0%\n"
     ]
    },
    {
     "name": "stderr",
     "output_type": "stream",
     "text": [
      "                                                           \r"
     ]
    },
    {
     "name": "stdout",
     "output_type": "stream",
     "text": [
      "[Fold4][17/50] Loss=14.0  IOU=0.131  Err=45.6px  <0.5cm=75.0%  <1cm=81.2%\n"
     ]
    },
    {
     "name": "stderr",
     "output_type": "stream",
     "text": [
      "                                                           \r"
     ]
    },
    {
     "name": "stdout",
     "output_type": "stream",
     "text": [
      "[Fold4][18/50] Loss=14.8  IOU=0.199  Err=6.0px  <0.5cm=100.0%  <1cm=100.0%\n"
     ]
    },
    {
     "name": "stderr",
     "output_type": "stream",
     "text": [
      "                                                           \r"
     ]
    },
    {
     "name": "stdout",
     "output_type": "stream",
     "text": [
      "[Fold4][19/50] Loss=14.3  IOU=0.222  Err=6.4px  <0.5cm=100.0%  <1cm=100.0%\n"
     ]
    },
    {
     "name": "stderr",
     "output_type": "stream",
     "text": [
      "                                                           \r"
     ]
    },
    {
     "name": "stdout",
     "output_type": "stream",
     "text": [
      "[Fold4][20/50] Loss=13.3  IOU=0.169  Err=6.8px  <0.5cm=100.0%  <1cm=100.0%\n"
     ]
    },
    {
     "name": "stderr",
     "output_type": "stream",
     "text": [
      "                                                           \r"
     ]
    },
    {
     "name": "stdout",
     "output_type": "stream",
     "text": [
      "[Fold4][21/50] Loss=12.4  IOU=0.201  Err=21.4px  <0.5cm=83.3%  <1cm=95.8%\n"
     ]
    },
    {
     "name": "stderr",
     "output_type": "stream",
     "text": [
      "                                                           \r"
     ]
    },
    {
     "name": "stdout",
     "output_type": "stream",
     "text": [
      "[Fold4][22/50] Loss=11.7  IOU=0.178  Err=5.7px  <0.5cm=100.0%  <1cm=100.0%\n"
     ]
    },
    {
     "name": "stderr",
     "output_type": "stream",
     "text": [
      "                                                           \r"
     ]
    },
    {
     "name": "stdout",
     "output_type": "stream",
     "text": [
      "[Fold4][23/50] Loss=11.3  IOU=0.195  Err=5.5px  <0.5cm=100.0%  <1cm=100.0%\n"
     ]
    },
    {
     "name": "stderr",
     "output_type": "stream",
     "text": [
      "                                                           \r"
     ]
    },
    {
     "name": "stdout",
     "output_type": "stream",
     "text": [
      "[Fold4][24/50] Loss=11.1  IOU=0.164  Err=7.7px  <0.5cm=100.0%  <1cm=100.0%\n"
     ]
    },
    {
     "name": "stderr",
     "output_type": "stream",
     "text": [
      "                                                           \r"
     ]
    },
    {
     "name": "stdout",
     "output_type": "stream",
     "text": [
      "[Fold4][25/50] Loss=10.6  IOU=0.153  Err=15.5px  <0.5cm=95.8%  <1cm=95.8%\n"
     ]
    },
    {
     "name": "stderr",
     "output_type": "stream",
     "text": [
      "                                                           \r"
     ]
    },
    {
     "name": "stdout",
     "output_type": "stream",
     "text": [
      "[Fold4][26/50] Loss=10.2  IOU=0.153  Err=7.2px  <0.5cm=100.0%  <1cm=100.0%\n"
     ]
    },
    {
     "name": "stderr",
     "output_type": "stream",
     "text": [
      "                                                           \r"
     ]
    },
    {
     "name": "stdout",
     "output_type": "stream",
     "text": [
      "[Fold4][27/50] Loss=9.7  IOU=0.205  Err=5.7px  <0.5cm=100.0%  <1cm=100.0%\n"
     ]
    },
    {
     "name": "stderr",
     "output_type": "stream",
     "text": [
      "                                                           \r"
     ]
    },
    {
     "name": "stdout",
     "output_type": "stream",
     "text": [
      "[Fold4][28/50] Loss=9.3  IOU=0.181  Err=7.4px  <0.5cm=100.0%  <1cm=100.0%\n"
     ]
    },
    {
     "name": "stderr",
     "output_type": "stream",
     "text": [
      "                                                           \r"
     ]
    },
    {
     "name": "stdout",
     "output_type": "stream",
     "text": [
      "[Fold4][29/50] Loss=9.0  IOU=0.152  Err=8.7px  <0.5cm=97.2%  <1cm=100.0%\n"
     ]
    },
    {
     "name": "stderr",
     "output_type": "stream",
     "text": [
      "                                                           \r"
     ]
    },
    {
     "name": "stdout",
     "output_type": "stream",
     "text": [
      "[Fold4][30/50] Loss=8.7  IOU=0.141  Err=9.3px  <0.5cm=97.9%  <1cm=100.0%\n"
     ]
    },
    {
     "name": "stderr",
     "output_type": "stream",
     "text": [
      "                                                           \r"
     ]
    },
    {
     "name": "stdout",
     "output_type": "stream",
     "text": [
      "[Fold4][31/50] Loss=8.4  IOU=0.116  Err=10.6px  <0.5cm=97.2%  <1cm=100.0%\n"
     ]
    },
    {
     "name": "stderr",
     "output_type": "stream",
     "text": [
      "                                                           \r"
     ]
    },
    {
     "name": "stdout",
     "output_type": "stream",
     "text": [
      "[Fold4][32/50] Loss=8.4  IOU=0.182  Err=8.0px  <0.5cm=100.0%  <1cm=100.0%\n"
     ]
    },
    {
     "name": "stderr",
     "output_type": "stream",
     "text": [
      "                                                           \r"
     ]
    },
    {
     "name": "stdout",
     "output_type": "stream",
     "text": [
      "[Fold4][33/50] Loss=8.1  IOU=0.159  Err=9.3px  <0.5cm=100.0%  <1cm=100.0%\n"
     ]
    },
    {
     "name": "stderr",
     "output_type": "stream",
     "text": [
      "                                                           \r"
     ]
    },
    {
     "name": "stdout",
     "output_type": "stream",
     "text": [
      "[Fold4][34/50] Loss=7.8  IOU=0.141  Err=9.0px  <0.5cm=97.2%  <1cm=100.0%\n"
     ]
    },
    {
     "name": "stderr",
     "output_type": "stream",
     "text": [
      "                                                           \r"
     ]
    },
    {
     "name": "stdout",
     "output_type": "stream",
     "text": [
      "[Fold4][35/50] Loss=7.4  IOU=0.176  Err=9.0px  <0.5cm=100.0%  <1cm=100.0%\n"
     ]
    },
    {
     "name": "stderr",
     "output_type": "stream",
     "text": [
      "                                                           \r"
     ]
    },
    {
     "name": "stdout",
     "output_type": "stream",
     "text": [
      "[Fold4][36/50] Loss=7.3  IOU=0.169  Err=10.0px  <0.5cm=97.9%  <1cm=100.0%\n"
     ]
    },
    {
     "name": "stderr",
     "output_type": "stream",
     "text": [
      "                                                           \r"
     ]
    },
    {
     "name": "stdout",
     "output_type": "stream",
     "text": [
      "[Fold4][37/50] Loss=7.0  IOU=0.155  Err=9.8px  <0.5cm=100.0%  <1cm=100.0%\n",
      "🛑 提前停止 Fold4 於 Epoch 37\n",
      "=== 開始訓練 Fold5 ===\n"
     ]
    },
    {
     "name": "stderr",
     "output_type": "stream",
     "text": [
      "                                                          \r"
     ]
    },
    {
     "name": "stdout",
     "output_type": "stream",
     "text": [
      "[Fold5][1/50] Loss=71.9  IOU=0.024  Err=60.7px  <0.5cm=8.3%  <1cm=75.0%\n"
     ]
    },
    {
     "name": "stderr",
     "output_type": "stream",
     "text": [
      "                                                          \r"
     ]
    },
    {
     "name": "stdout",
     "output_type": "stream",
     "text": [
      "[Fold5][2/50] Loss=68.7  IOU=0.094  Err=16.5px  <0.5cm=95.8%  <1cm=100.0%\n"
     ]
    },
    {
     "name": "stderr",
     "output_type": "stream",
     "text": [
      "                                                          \r"
     ]
    },
    {
     "name": "stdout",
     "output_type": "stream",
     "text": [
      "[Fold5][3/50] Loss=64.6  IOU=0.147  Err=10.4px  <0.5cm=100.0%  <1cm=100.0%\n"
     ]
    },
    {
     "name": "stderr",
     "output_type": "stream",
     "text": [
      "                                                          \r"
     ]
    },
    {
     "name": "stdout",
     "output_type": "stream",
     "text": [
      "[Fold5][4/50] Loss=55.5  IOU=0.153  Err=8.3px  <0.5cm=100.0%  <1cm=100.0%\n"
     ]
    },
    {
     "name": "stderr",
     "output_type": "stream",
     "text": [
      "                                                          \r"
     ]
    },
    {
     "name": "stdout",
     "output_type": "stream",
     "text": [
      "[Fold5][5/50] Loss=41.8  IOU=0.104  Err=14.0px  <0.5cm=97.9%  <1cm=97.9%\n"
     ]
    },
    {
     "name": "stderr",
     "output_type": "stream",
     "text": [
      "                                                          \r"
     ]
    },
    {
     "name": "stdout",
     "output_type": "stream",
     "text": [
      "[Fold5][6/50] Loss=31.9  IOU=0.189  Err=12.9px  <0.5cm=100.0%  <1cm=100.0%\n"
     ]
    },
    {
     "name": "stderr",
     "output_type": "stream",
     "text": [
      "                                                          \r"
     ]
    },
    {
     "name": "stdout",
     "output_type": "stream",
     "text": [
      "[Fold5][7/50] Loss=25.0  IOU=0.203  Err=6.7px  <0.5cm=100.0%  <1cm=100.0%\n"
     ]
    },
    {
     "name": "stderr",
     "output_type": "stream",
     "text": [
      "                                                          \r"
     ]
    },
    {
     "name": "stdout",
     "output_type": "stream",
     "text": [
      "[Fold5][8/50] Loss=21.3  IOU=0.127  Err=10.6px  <0.5cm=100.0%  <1cm=100.0%\n"
     ]
    },
    {
     "name": "stderr",
     "output_type": "stream",
     "text": [
      "                                                          \r"
     ]
    },
    {
     "name": "stdout",
     "output_type": "stream",
     "text": [
      "[Fold5][9/50] Loss=18.5  IOU=0.201  Err=7.7px  <0.5cm=100.0%  <1cm=100.0%\n"
     ]
    },
    {
     "name": "stderr",
     "output_type": "stream",
     "text": [
      "                                                           \r"
     ]
    },
    {
     "name": "stdout",
     "output_type": "stream",
     "text": [
      "[Fold5][10/50] Loss=15.8  IOU=0.161  Err=9.2px  <0.5cm=100.0%  <1cm=100.0%\n"
     ]
    },
    {
     "name": "stderr",
     "output_type": "stream",
     "text": [
      "                                                           \r"
     ]
    },
    {
     "name": "stdout",
     "output_type": "stream",
     "text": [
      "[Fold5][11/50] Loss=14.6  IOU=0.087  Err=9.4px  <0.5cm=100.0%  <1cm=100.0%\n"
     ]
    },
    {
     "name": "stderr",
     "output_type": "stream",
     "text": [
      "                                                           \r"
     ]
    },
    {
     "name": "stdout",
     "output_type": "stream",
     "text": [
      "[Fold5][12/50] Loss=13.1  IOU=0.147  Err=7.4px  <0.5cm=100.0%  <1cm=100.0%\n"
     ]
    },
    {
     "name": "stderr",
     "output_type": "stream",
     "text": [
      "                                                           \r"
     ]
    },
    {
     "name": "stdout",
     "output_type": "stream",
     "text": [
      "[Fold5][13/50] Loss=11.7  IOU=0.175  Err=8.1px  <0.5cm=100.0%  <1cm=100.0%\n"
     ]
    },
    {
     "name": "stderr",
     "output_type": "stream",
     "text": [
      "                                                           \r"
     ]
    },
    {
     "name": "stdout",
     "output_type": "stream",
     "text": [
      "[Fold5][14/50] Loss=10.9  IOU=0.161  Err=8.4px  <0.5cm=100.0%  <1cm=100.0%\n"
     ]
    },
    {
     "name": "stderr",
     "output_type": "stream",
     "text": [
      "                                                           \r"
     ]
    },
    {
     "name": "stdout",
     "output_type": "stream",
     "text": [
      "[Fold5][15/50] Loss=10.2  IOU=0.139  Err=8.2px  <0.5cm=100.0%  <1cm=100.0%\n"
     ]
    },
    {
     "name": "stderr",
     "output_type": "stream",
     "text": [
      "                                                           \r"
     ]
    },
    {
     "name": "stdout",
     "output_type": "stream",
     "text": [
      "[Fold5][16/50] Loss=9.7  IOU=0.186  Err=8.3px  <0.5cm=100.0%  <1cm=100.0%\n"
     ]
    },
    {
     "name": "stderr",
     "output_type": "stream",
     "text": [
      "                                                           \r"
     ]
    },
    {
     "name": "stdout",
     "output_type": "stream",
     "text": [
      "[Fold5][17/50] Loss=9.3  IOU=0.152  Err=7.7px  <0.5cm=100.0%  <1cm=100.0%\n"
     ]
    },
    {
     "name": "stderr",
     "output_type": "stream",
     "text": [
      "                                                           \r"
     ]
    },
    {
     "name": "stdout",
     "output_type": "stream",
     "text": [
      "[Fold5][18/50] Loss=9.0  IOU=0.155  Err=9.6px  <0.5cm=100.0%  <1cm=100.0%\n"
     ]
    },
    {
     "name": "stderr",
     "output_type": "stream",
     "text": [
      "                                                           \r"
     ]
    },
    {
     "name": "stdout",
     "output_type": "stream",
     "text": [
      "[Fold5][19/50] Loss=8.5  IOU=0.183  Err=9.6px  <0.5cm=100.0%  <1cm=100.0%\n"
     ]
    },
    {
     "name": "stderr",
     "output_type": "stream",
     "text": [
      "                                                           \r"
     ]
    },
    {
     "name": "stdout",
     "output_type": "stream",
     "text": [
      "[Fold5][20/50] Loss=8.2  IOU=0.147  Err=7.7px  <0.5cm=100.0%  <1cm=100.0%\n"
     ]
    },
    {
     "name": "stderr",
     "output_type": "stream",
     "text": [
      "                                                           \r"
     ]
    },
    {
     "name": "stdout",
     "output_type": "stream",
     "text": [
      "[Fold5][21/50] Loss=7.9  IOU=0.177  Err=9.6px  <0.5cm=100.0%  <1cm=100.0%\n"
     ]
    },
    {
     "name": "stderr",
     "output_type": "stream",
     "text": [
      "                                                           \r"
     ]
    },
    {
     "name": "stdout",
     "output_type": "stream",
     "text": [
      "[Fold5][22/50] Loss=7.6  IOU=0.166  Err=9.0px  <0.5cm=100.0%  <1cm=100.0%\n"
     ]
    },
    {
     "name": "stderr",
     "output_type": "stream",
     "text": [
      "                                                           \r"
     ]
    },
    {
     "name": "stdout",
     "output_type": "stream",
     "text": [
      "[Fold5][23/50] Loss=7.4  IOU=0.151  Err=8.7px  <0.5cm=100.0%  <1cm=100.0%\n"
     ]
    },
    {
     "name": "stderr",
     "output_type": "stream",
     "text": [
      "                                                           \r"
     ]
    },
    {
     "name": "stdout",
     "output_type": "stream",
     "text": [
      "[Fold5][24/50] Loss=7.2  IOU=0.128  Err=8.5px  <0.5cm=100.0%  <1cm=100.0%\n"
     ]
    },
    {
     "name": "stderr",
     "output_type": "stream",
     "text": [
      "                                                           \r"
     ]
    },
    {
     "name": "stdout",
     "output_type": "stream",
     "text": [
      "[Fold5][25/50] Loss=7.0  IOU=0.159  Err=7.8px  <0.5cm=100.0%  <1cm=100.0%\n"
     ]
    },
    {
     "name": "stderr",
     "output_type": "stream",
     "text": [
      "                                                           \r"
     ]
    },
    {
     "name": "stdout",
     "output_type": "stream",
     "text": [
      "[Fold5][26/50] Loss=6.8  IOU=0.134  Err=9.4px  <0.5cm=100.0%  <1cm=100.0%\n"
     ]
    },
    {
     "name": "stderr",
     "output_type": "stream",
     "text": [
      "                                                           \r"
     ]
    },
    {
     "name": "stdout",
     "output_type": "stream",
     "text": [
      "[Fold5][27/50] Loss=6.5  IOU=0.135  Err=10.1px  <0.5cm=100.0%  <1cm=100.0%\n"
     ]
    },
    {
     "name": "stderr",
     "output_type": "stream",
     "text": [
      "                                                           \r"
     ]
    },
    {
     "name": "stdout",
     "output_type": "stream",
     "text": [
      "[Fold5][28/50] Loss=6.4  IOU=0.114  Err=10.8px  <0.5cm=100.0%  <1cm=100.0%\n"
     ]
    },
    {
     "name": "stderr",
     "output_type": "stream",
     "text": [
      "                                                           \r"
     ]
    },
    {
     "name": "stdout",
     "output_type": "stream",
     "text": [
      "[Fold5][29/50] Loss=6.3  IOU=0.169  Err=7.7px  <0.5cm=100.0%  <1cm=100.0%\n"
     ]
    },
    {
     "name": "stderr",
     "output_type": "stream",
     "text": [
      "                                                           \r"
     ]
    },
    {
     "name": "stdout",
     "output_type": "stream",
     "text": [
      "[Fold5][30/50] Loss=6.2  IOU=0.099  Err=9.1px  <0.5cm=97.9%  <1cm=100.0%\n"
     ]
    },
    {
     "name": "stderr",
     "output_type": "stream",
     "text": [
      "                                                           \r"
     ]
    },
    {
     "name": "stdout",
     "output_type": "stream",
     "text": [
      "[Fold5][31/50] Loss=6.2  IOU=0.151  Err=9.8px  <0.5cm=97.9%  <1cm=100.0%\n"
     ]
    },
    {
     "name": "stderr",
     "output_type": "stream",
     "text": [
      "                                                           \r"
     ]
    },
    {
     "name": "stdout",
     "output_type": "stream",
     "text": [
      "[Fold5][32/50] Loss=6.0  IOU=0.117  Err=9.8px  <0.5cm=97.9%  <1cm=100.0%\n"
     ]
    },
    {
     "name": "stderr",
     "output_type": "stream",
     "text": [
      "                                                           \r"
     ]
    },
    {
     "name": "stdout",
     "output_type": "stream",
     "text": [
      "[Fold5][33/50] Loss=5.9  IOU=0.156  Err=8.9px  <0.5cm=100.0%  <1cm=100.0%\n"
     ]
    },
    {
     "name": "stderr",
     "output_type": "stream",
     "text": [
      "                                                           \r"
     ]
    },
    {
     "name": "stdout",
     "output_type": "stream",
     "text": [
      "[Fold5][34/50] Loss=5.7  IOU=0.152  Err=8.9px  <0.5cm=100.0%  <1cm=100.0%\n"
     ]
    },
    {
     "name": "stderr",
     "output_type": "stream",
     "text": [
      "                                                           \r"
     ]
    },
    {
     "name": "stdout",
     "output_type": "stream",
     "text": [
      "[Fold5][35/50] Loss=5.7  IOU=0.113  Err=10.6px  <0.5cm=100.0%  <1cm=100.0%\n"
     ]
    },
    {
     "name": "stderr",
     "output_type": "stream",
     "text": [
      "                                                           \r"
     ]
    },
    {
     "name": "stdout",
     "output_type": "stream",
     "text": [
      "[Fold5][36/50] Loss=5.7  IOU=0.121  Err=10.3px  <0.5cm=97.9%  <1cm=100.0%\n"
     ]
    },
    {
     "name": "stderr",
     "output_type": "stream",
     "text": [
      "                                                           \r"
     ]
    },
    {
     "name": "stdout",
     "output_type": "stream",
     "text": [
      "[Fold5][37/50] Loss=5.5  IOU=0.123  Err=10.6px  <0.5cm=100.0%  <1cm=100.0%\n",
      "🛑 提前停止 Fold5 於 Epoch 37\n",
      "✅ 全部 Fold 訓練完成！\n"
     ]
    }
   ],
   "source": [
    "import torch\n",
    "import torch.nn as nn\n",
    "import torch.optim as optim\n",
    "import os\n",
    "import numpy as np\n",
    "from torchvision.models.segmentation import deeplabv3_resnet50\n",
    "from torchvision.models import ResNet50_Weights\n",
    "from torchvision.transforms.functional import to_pil_image\n",
    "from torch.utils.data import DataLoader\n",
    "from dataset import get_loaders\n",
    "from PIL import Image\n",
    "from tqdm import tqdm  # 進度條\n",
    "\n",
    "# === 損失函數：Focal + Dice ===\n",
    "class FocalLoss(nn.Module):\n",
    "    def __init__(self, alpha=0.8, gamma=2):\n",
    "        super().__init__()\n",
    "        self.alpha, self.gamma = alpha, gamma\n",
    "        self.bce = nn.BCEWithLogitsLoss(reduction='none')\n",
    "    def forward(self, inputs, targets):\n",
    "        b = self.bce(inputs, targets)\n",
    "        pt = torch.exp(-b)\n",
    "        return (self.alpha*(1-pt)**self.gamma * b).mean()\n",
    "\n",
    "def dice_loss(pred, target, eps=1e-6):\n",
    "    p = torch.sigmoid(pred)\n",
    "    inter = (p*target).sum()\n",
    "    union = p.sum() + target.sum()\n",
    "    return 1 - (2*inter+eps)/(union+eps)\n",
    "\n",
    "def mixed_loss(pred, target):\n",
    "    return FocalLoss()(pred, target) + dice_loss(pred, target)\n",
    "\n",
    "# === 評估指標 ===\n",
    "def compute_iou(preds, masks, threshold=0.3):\n",
    "    p = (torch.sigmoid(preds)>threshold).float()\n",
    "    inter = (p*masks).sum(dim=(1,2,3))\n",
    "    union = ((p+masks)>0).float().sum(dim=(1,2,3))\n",
    "    return (inter/(union+1e-6)).mean().item()\n",
    "\n",
    "def evaluate_prediction_error(preds, masks, px_per_cm=72):\n",
    "    p = (torch.sigmoid(preds)>0.3).float()\n",
    "    errs=[]\n",
    "    for i in range(p.size(0)):\n",
    "        pp = torch.nonzero(p[i,0], as_tuple=False)\n",
    "        tt = torch.nonzero(masks[i,0], as_tuple=False)\n",
    "        if len(pp)==0 or len(tt)==0: continue\n",
    "        errs.append(abs(pp[:,0].float().mean()-tt[:,0].float().mean()).item())\n",
    "    if not errs: return 0,0,0\n",
    "    m = np.mean(errs)\n",
    "    return m, np.mean(np.array(errs)<=0.5*px_per_cm)*100, np.mean(np.array(errs)<=1.0*px_per_cm)*100\n",
    "\n",
    "# === 模型建立 ===\n",
    "def get_model():\n",
    "    return deeplabv3_resnet50(\n",
    "        weights=None,\n",
    "        weights_backbone=ResNet50_Weights.IMAGENET1K_V2,\n",
    "        num_classes=1\n",
    "    )\n",
    "\n",
    "# === 主程式 ===\n",
    "device = 'cuda' if torch.cuda.is_available() else 'cpu'\n",
    "os.makedirs(\"checkpoints/deeplabv3\", exist_ok=True)\n",
    "folds = ['Fold1','Fold2','Fold3','Fold4','Fold5']\n",
    "\n",
    "for fold in folds:\n",
    "    print(f\"=== 開始訓練 {fold} ===\")\n",
    "    model = get_model().to(device)\n",
    "    optimizer = optim.Adam(model.parameters(), lr=1e-4)\n",
    "\n",
    "    # 先用原本的 get_loaders 拿 dataset\n",
    "    train_ds, val_ds = get_loaders('processed_data', fold, batch_size=None)\n",
    "    # 再自己包 DataLoader，加上 drop_last=True\n",
    "    train_loader = DataLoader(train_ds.dataset, batch_size=4, shuffle=True, drop_last=True)\n",
    "    val_loader   = DataLoader(val_ds.dataset,   batch_size=4, shuffle=False, drop_last=True)\n",
    "\n",
    "    best_iou = 0.0\n",
    "    patience = 30\n",
    "    wait = 0\n",
    "\n",
    "    for epoch in range(50):\n",
    "        # ———— 訓練 ————\n",
    "        model.train()\n",
    "        total_loss = 0.0\n",
    "        for imgs, masks in tqdm(train_loader, desc=f\"{fold} Ep{epoch+1}\", leave=False):\n",
    "            imgs, masks = imgs.to(device), masks.to(device)\n",
    "            out = model(imgs)['out']\n",
    "            loss = mixed_loss(out, masks)\n",
    "            optimizer.zero_grad()\n",
    "            loss.backward()\n",
    "            optimizer.step()\n",
    "            total_loss += loss.item()\n",
    "\n",
    "        # ———— 驗證 ————\n",
    "        model.eval()\n",
    "        sum_iou = sum_err = sum_a05 = sum_a10 = 0.0\n",
    "        with torch.no_grad():\n",
    "            for imgs, masks in val_loader:\n",
    "                imgs, masks = imgs.to(device), masks.to(device)\n",
    "                out = model(imgs)['out']\n",
    "                sum_iou += compute_iou(out, masks)\n",
    "                e,a05,a10 = evaluate_prediction_error(out, masks)\n",
    "                sum_err += e\n",
    "                sum_a05 += a05\n",
    "                sum_a10 += a10\n",
    "\n",
    "        n = len(val_loader)\n",
    "        val_iou = sum_iou/n\n",
    "        val_err = sum_err/n\n",
    "        val_a05 = sum_a05/n\n",
    "        val_a10 = sum_a10/n\n",
    "        print(f\"[{fold}][{epoch+1}/50] Loss={total_loss:.1f}  IOU={val_iou:.3f}  Err={val_err:.1f}px  <0.5cm={val_a05:.1f}%  <1cm={val_a10:.1f}%\")\n",
    "\n",
    "        # Early stopping\n",
    "        if val_iou > best_iou:\n",
    "            best_iou = val_iou\n",
    "            wait = 0\n",
    "            torch.save(model.state_dict(), f\"checkpoints/deeplabv3/deeplabv3_{fold}_best.pth\")\n",
    "        else:\n",
    "            wait += 1\n",
    "            if wait >= patience:\n",
    "                print(f\"🛑 提前停止 {fold} 於 Epoch {epoch+1}\")\n",
    "                break\n",
    "\n",
    "    # ———— 存預測圖 ————\n",
    "    out_dir = f\"predictions/deeplabv3/{fold}\"\n",
    "    os.makedirs(out_dir, exist_ok=True)\n",
    "    model.eval()\n",
    "    cnt = 1\n",
    "    with torch.no_grad():\n",
    "        for imgs, masks in val_loader:\n",
    "            imgs, masks = imgs.to(device), masks.to(device)\n",
    "            preds = (torch.sigmoid(model(imgs)['out'])>0.3).float()\n",
    "            for i in range(imgs.size(0)):\n",
    "                orig = to_pil_image(imgs[i][0].cpu())\n",
    "                gt   = to_pil_image(masks[i][0].cpu())\n",
    "                pr   = to_pil_image(preds[i][0].cpu())\n",
    "                w,h = orig.size\n",
    "                combo = Image.new('L',(w*3,h))\n",
    "                combo.paste(orig,(0,0)); combo.paste(gt,(w,0)); combo.paste(pr,(2*w,0))\n",
    "                combo.save(f\"{out_dir}/pred_{cnt}.png\")\n",
    "                cnt += 1\n",
    "\n",
    "print(\"✅ 全部 Fold 訓練完成！\")\n"
   ]
  }
 ],
 "metadata": {
  "kernelspec": {
   "display_name": "ett-seg",
   "language": "python",
   "name": "python3"
  },
  "language_info": {
   "codemirror_mode": {
    "name": "ipython",
    "version": 3
   },
   "file_extension": ".py",
   "mimetype": "text/x-python",
   "name": "python",
   "nbconvert_exporter": "python",
   "pygments_lexer": "ipython3",
   "version": "3.10.16"
  }
 },
 "nbformat": 4,
 "nbformat_minor": 5
}
