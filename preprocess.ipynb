{
 "cells": [
  {
   "cell_type": "markdown",
   "id": "6f30d64b",
   "metadata": {},
   "source": [
    "前處理 (圖片統一調整成256*256、對訓練資料加強、保存處理後圖片到指定資料夾(processed_data))"
   ]
  },
  {
   "cell_type": "code",
   "execution_count": 2,
   "id": "f50d8c0c",
   "metadata": {},
   "outputs": [
    {
     "name": "stdout",
     "output_type": "stream",
     "text": [
      "資料前處理完成，結果保存在： processed_data\n"
     ]
    }
   ],
   "source": [
    "import os\n",
    "import cv2\n",
    "import numpy as np\n",
    "from torchvision import transforms\n",
    "from PIL import Image\n",
    "\n",
    "# 圖像大小設定\n",
    "TARGET_SIZE = (256, 256)\n",
    "\n",
    "# 定義來源與目標資料夾\n",
    "source_folder = 'data'\n",
    "output_folder = 'processed_data'\n",
    "\n",
    "# 創建目標資料夾\n",
    "os.makedirs(output_folder, exist_ok=True)\n",
    "\n",
    "# 圖片增強 (只對train資料進行)\n",
    "augmentation = transforms.Compose([\n",
    "    transforms.RandomHorizontalFlip(p=0.5),\n",
    "    transforms.RandomVerticalFlip(p=0.5),\n",
    "    transforms.RandomRotation(degrees=10),\n",
    "])\n",
    "\n",
    "# 圖片調整函數\n",
    "def resize_image(image_path, mask=False):\n",
    "    interpolation = cv2.INTER_NEAREST if mask else cv2.INTER_LINEAR\n",
    "    image = cv2.imread(image_path, cv2.IMREAD_GRAYSCALE)\n",
    "    image = cv2.resize(image, TARGET_SIZE, interpolation=interpolation)\n",
    "    return image\n",
    "\n",
    "# 資料處理函數\n",
    "def process_fold(fold_path, output_fold_path):\n",
    "    subsets = ['train', 'trainannot', 'val', 'valannot', 'test', 'testannot']\n",
    "\n",
    "    for subset in subsets:\n",
    "        input_path = os.path.join(fold_path, subset)\n",
    "        output_path = os.path.join(output_fold_path, subset)\n",
    "        os.makedirs(output_path, exist_ok=True)\n",
    "\n",
    "        for img_name in os.listdir(input_path):\n",
    "            img_path = os.path.join(input_path, img_name)\n",
    "\n",
    "            if 'annot' in subset:  # 遮罩\n",
    "                resized_img = resize_image(img_path, mask=True)\n",
    "            else:  # 原始影像\n",
    "                resized_img = resize_image(img_path, mask=False)\n",
    "\n",
    "                if subset == 'train':  # 對訓練集進行資料增強\n",
    "                    pil_img = Image.fromarray(resized_img)\n",
    "                    pil_img = augmentation(pil_img)\n",
    "                    resized_img = np.array(pil_img)\n",
    "\n",
    "            save_path = os.path.join(output_path, img_name)\n",
    "            cv2.imwrite(save_path, resized_img)\n",
    "\n",
    "# 處理全部5個fold\n",
    "for fold in ['Fold1', 'Fold2', 'Fold3', 'Fold4', 'Fold5']:\n",
    "    fold_path = os.path.join(source_folder, fold)\n",
    "    output_fold_path = os.path.join(output_folder, fold)\n",
    "    process_fold(fold_path, output_fold_path)\n",
    "\n",
    "print(\"資料前處理完成，結果保存在：\", output_folder)\n"
   ]
  }
 ],
 "metadata": {
  "kernelspec": {
   "display_name": "ett-seg",
   "language": "python",
   "name": "python3"
  },
  "language_info": {
   "codemirror_mode": {
    "name": "ipython",
    "version": 3
   },
   "file_extension": ".py",
   "mimetype": "text/x-python",
   "name": "python",
   "nbconvert_exporter": "python",
   "pygments_lexer": "ipython3",
   "version": "3.10.16"
  }
 },
 "nbformat": 4,
 "nbformat_minor": 5
}
